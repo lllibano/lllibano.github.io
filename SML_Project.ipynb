{
  "nbformat": 4,
  "nbformat_minor": 0,
  "metadata": {
    "colab": {
      "name": "SML_Project.ipynb",
      "provenance": [],
      "collapsed_sections": [],
      "include_colab_link": true
    },
    "kernelspec": {
      "name": "python3",
      "display_name": "Python 3"
    }
  },
  "cells": [
    {
      "cell_type": "markdown",
      "metadata": {
        "id": "view-in-github",
        "colab_type": "text"
      },
      "source": [
        "<a href=\"https://colab.research.google.com/github/lllibano/lllibano.github.io/blob/master/SML_Project.ipynb\" target=\"_parent\"><img src=\"https://colab.research.google.com/assets/colab-badge.svg\" alt=\"Open In Colab\"/></a>"
      ]
    },
    {
      "cell_type": "markdown",
      "metadata": {
        "id": "HhQkSq6nPfUN",
        "colab_type": "text"
      },
      "source": [
        "##**Declaring Classes & Initializing Sample Data Structures**"
      ]
    },
    {
      "cell_type": "code",
      "metadata": {
        "id": "mqCcw_F_NAjv",
        "colab_type": "code",
        "outputId": "23802815-dd25-497c-bcf6-ae1d62d5544e",
        "colab": {
          "base_uri": "https://localhost:8080/",
          "height": 676
        }
      },
      "source": [
        "#classes\n",
        "class Author:\n",
        "  def __init__(self, name, affiliation):\n",
        "    self.name = name\n",
        "    self.affiliation = affiliation\n",
        "\n",
        "class Paper:\n",
        "  def __init__(self, title, authors, field, keywords, venue, year, references):\n",
        "    self.title = title\n",
        "    self.authors = authors\n",
        "    self.field = field\n",
        "    self.keywords = keywords\n",
        "    self.venue = venue\n",
        "    self.year = year\n",
        "    self.references = references\n",
        "\n",
        "#initialize sample data objects\n",
        "author1 = Author(\"fabiano\", \"asu\")\n",
        "author2 = Author(\"john\", \"stanford\")\n",
        "author3 = Author(\"isaac\", \"mit\")\n",
        "\n",
        "#nodes\n",
        "paper1 = Paper(\"title for paper 1\", [author1, author2], \"ai\", [\"ai\", \"machine learning\", \"clustering\"], \"NSREC\", \"2019\", [])\n",
        "paper2 = Paper(\"title for paper 2\", [author2], \"reliability\", [\"fpga\", \"neural networks\", \"machine learning\", \"ai\", \"space exploration\"], \"RADECS\", \"2008\", [])\n",
        "paper3 = Paper(\"title for paper 3\", [author3, author2], \"architecture\", [\"simulation\", \"gpu\", \"high performance\", \"clustering\"], \"HPCA\", \"2017\", [])\n",
        "paper4 = Paper(\"title for paper 4\", [author2], \"architecture\", [\"soc\", \"vhdl\", \"ai\", \"machine learning\", \"neural networks\"], \"FPGA\", \"2015\", [])\n",
        "paper5 = Paper(\"title for paper 5\", [author1], \"fault tolerance\", [\"nlp\", \"gpu\", \"ai\", \"clustering\"], \"LOL\", \"2011\", [])\n",
        "\n",
        "#edges\n",
        "paper1ReferenceList = [paper2, paper3]\n",
        "paper2ReferenceList = [paper4, paper5]\n",
        "paper3ReferenceList = [paper2, paper4]\n",
        "paper4ReferenceList = [paper1]\n",
        "paper5ReferenceList = [paper3]\n",
        "paper1.references = paper1ReferenceList\n",
        "paper2.references = paper2ReferenceList\n",
        "paper3.references = paper3ReferenceList\n",
        "paper4.references = paper4ReferenceList\n",
        "paper5.references = paper5ReferenceList\n",
        "\n",
        "#visualization\n",
        "print(\"Title: \" + paper1.title)\n",
        "print(\"Author: \" + paper1.authors[0].name)\n",
        "print(\"Affiliation: \" + paper1.authors[0].affiliation)\n",
        "print(\"References: \")\n",
        "for reference in paper1.references:\n",
        "  print(\"\\t\" + reference.title)\n",
        "print(\"##################################\\n\")\n",
        "\n",
        "print(\"Title: \" + paper2.title)\n",
        "print(\"Author: \" + paper2.authors[0].name)\n",
        "print(\"Affiliation: \" + paper2.authors[0].affiliation)\n",
        "print(\"References:\")\n",
        "for reference in paper2.references:\n",
        "  print(\"\\t\" + reference.title)\n",
        "print(\"##################################\\n\")\n",
        "\n",
        "print(\"Title: \" + paper3.title)\n",
        "print(\"Author: \" + paper3.authors[0].name)\n",
        "print(\"Affiliation: \" + paper3.authors[0].affiliation)\n",
        "print(\"References:\")\n",
        "for reference in paper3.references:\n",
        "  print(\"\\t\" + reference.title)\n",
        "print(\"##################################\\n\")\n",
        "\n",
        "print(\"Title: \" + paper4.title)\n",
        "print(\"Author: \" + paper4.authors[0].name)\n",
        "print(\"Affiliation: \" + paper4.authors[0].affiliation)\n",
        "print(\"References:\")\n",
        "for reference in paper4.references:\n",
        "  print(\"\\t\" + reference.title)\n",
        "print(\"##################################\\n\")\n",
        "\n",
        "print(\"Title: \" + paper5.title)\n",
        "print(\"Author: \" + paper5.authors[0].name)\n",
        "print(\"Affiliation: \" + paper5.authors[0].affiliation)\n",
        "print(\"References:\")\n",
        "for reference in paper5.references:\n",
        "  print(\"\\t\" + reference.title)\n",
        "print(\"##################################\\n\")"
      ],
      "execution_count": 114,
      "outputs": [
        {
          "output_type": "stream",
          "text": [
            "Title: title for paper 1\n",
            "Author: fabiano\n",
            "Affiliation: asu\n",
            "References: \n",
            "\ttitle for paper 2\n",
            "\ttitle for paper 3\n",
            "##################################\n",
            "\n",
            "Title: title for paper 2\n",
            "Author: john\n",
            "Affiliation: stanford\n",
            "References:\n",
            "\ttitle for paper 4\n",
            "\ttitle for paper 5\n",
            "##################################\n",
            "\n",
            "Title: title for paper 3\n",
            "Author: isaac\n",
            "Affiliation: mit\n",
            "References:\n",
            "\ttitle for paper 2\n",
            "\ttitle for paper 4\n",
            "##################################\n",
            "\n",
            "Title: title for paper 4\n",
            "Author: john\n",
            "Affiliation: stanford\n",
            "References:\n",
            "\ttitle for paper 1\n",
            "##################################\n",
            "\n",
            "Title: title for paper 5\n",
            "Author: fabiano\n",
            "Affiliation: asu\n",
            "References:\n",
            "\ttitle for paper 3\n",
            "##################################\n",
            "\n"
          ],
          "name": "stdout"
        }
      ]
    },
    {
      "cell_type": "markdown",
      "metadata": {
        "id": "zFiIrTWKPh3l",
        "colab_type": "text"
      },
      "source": [
        "##**Initialize Graph**"
      ]
    },
    {
      "cell_type": "code",
      "metadata": {
        "id": "9wYxtbKSNVOg",
        "colab_type": "code",
        "colab": {
          "base_uri": "https://localhost:8080/",
          "height": 107
        },
        "outputId": "2071c242-b547-422b-ae0b-7461a489f522"
      },
      "source": [
        "import networkx as nx\n",
        "\n",
        "#init directed graph\n",
        "graph = nx.DiGraph()\n",
        "\n",
        "#nodes\n",
        "nodes = [paper1, paper2, paper3, paper4, paper5]\n",
        "graph.add_nodes_from(nodes)\n",
        "\n",
        "#edges\n",
        "for paper in nodes:\n",
        "  for reference in paper.references:\n",
        "    graph.add_edge(paper, reference, weight=0)\n",
        "\n",
        "#report\n",
        "print(graph.number_of_nodes())\n",
        "print(graph.nodes())\n",
        "print(graph.number_of_edges())\n",
        "print(graph.edges())"
      ],
      "execution_count": 115,
      "outputs": [
        {
          "output_type": "stream",
          "text": [
            "5\n",
            "[<__main__.Paper object at 0x7f1fa2a90ac8>, <__main__.Paper object at 0x7f1f98bbfcc0>, <__main__.Paper object at 0x7f1f98bbf320>, <__main__.Paper object at 0x7f1f98bbf0b8>, <__main__.Paper object at 0x7f1f98bbf7b8>]\n",
            "8\n",
            "[(<__main__.Paper object at 0x7f1fa2a90ac8>, <__main__.Paper object at 0x7f1f98bbfcc0>), (<__main__.Paper object at 0x7f1fa2a90ac8>, <__main__.Paper object at 0x7f1f98bbf320>), (<__main__.Paper object at 0x7f1f98bbfcc0>, <__main__.Paper object at 0x7f1f98bbf0b8>), (<__main__.Paper object at 0x7f1f98bbfcc0>, <__main__.Paper object at 0x7f1f98bbf7b8>), (<__main__.Paper object at 0x7f1f98bbf320>, <__main__.Paper object at 0x7f1f98bbfcc0>), (<__main__.Paper object at 0x7f1f98bbf320>, <__main__.Paper object at 0x7f1f98bbf0b8>), (<__main__.Paper object at 0x7f1f98bbf0b8>, <__main__.Paper object at 0x7f1fa2a90ac8>), (<__main__.Paper object at 0x7f1f98bbf7b8>, <__main__.Paper object at 0x7f1f98bbf320>)]\n"
          ],
          "name": "stdout"
        }
      ]
    },
    {
      "cell_type": "markdown",
      "metadata": {
        "id": "LQjLzPQsYik3",
        "colab_type": "text"
      },
      "source": [
        "##**Assign Weights [THIS IS PART OF FABIANO AND HASEEB'S TASK]**\n",
        "\n"
      ]
    },
    {
      "cell_type": "code",
      "metadata": {
        "id": "e0PPwDuEZ7D6",
        "colab_type": "code",
        "colab": {
          "base_uri": "https://localhost:8080/",
          "height": 156
        },
        "outputId": "993a92ab-9525-4f1c-f868-64916dc5d600"
      },
      "source": [
        "def assignWeights(graph):\n",
        "  for edge in graph.edges():\n",
        "      node1Keywords = edge[0].keywords\n",
        "      node2Keywords = edge[1].keywords\n",
        "      equalKeywords = (set(node1Keywords) & set(node2Keywords))\n",
        "      print(equalKeywords) #debug only - delete this on final version\n",
        "      graph[edge[0]][edge[1]]['weight'] = len(equalKeywords)\n",
        "\n",
        "\n",
        "\n",
        "assignWeights(graph)"
      ],
      "execution_count": 116,
      "outputs": [
        {
          "output_type": "stream",
          "text": [
            "{'machine learning', 'ai'}\n",
            "{'clustering'}\n",
            "{'machine learning', 'ai', 'neural networks'}\n",
            "{'ai'}\n",
            "set()\n",
            "set()\n",
            "{'machine learning', 'ai'}\n",
            "{'gpu', 'clustering'}\n"
          ],
          "name": "stdout"
        }
      ]
    },
    {
      "cell_type": "markdown",
      "metadata": {
        "id": "sCZb9Ly3gxhd",
        "colab_type": "text"
      },
      "source": [
        "##**Drop Edges [THIS IS PART OF FABIANO AND HASEEB'S TASK]**"
      ]
    },
    {
      "cell_type": "code",
      "metadata": {
        "id": "NqKHuQcnaA54",
        "colab_type": "code",
        "colab": {
          "base_uri": "https://localhost:8080/",
          "height": 107
        },
        "outputId": "1cd7defe-b404-4268-b59a-3e5eabb4650b"
      },
      "source": [
        "def dropEdges(graph):\n",
        "  for node in graph.nodes():\n",
        "    if(len(node.references) >= 1):\n",
        "      mostSimilarReference = node.references[0]\n",
        "      for reference in node.references:\n",
        "        if(graph[node][reference]['weight'] > graph[node][mostSimilarReference]['weight']):\n",
        "          mostSimilarReference = reference\n",
        "  \n",
        "    node.references = [mostSimilarReference]\n",
        "  \n",
        "  newGraph = nx.DiGraph()\n",
        "  newGraph.add_nodes_from(graph.nodes())\n",
        "  for paper in newGraph.nodes():\n",
        "    for reference in paper.references:\n",
        "      newGraph.add_edge(paper, reference, weight=graph[paper][reference]['weight'])\n",
        "\n",
        "  return newGraph\n",
        "\n",
        "\n",
        "graph = dropEdges(graph)\n",
        "\n",
        "print(graph.number_of_nodes())\n",
        "print(graph.nodes())\n",
        "print(graph.number_of_edges())\n",
        "print(graph.edges())\n"
      ],
      "execution_count": 117,
      "outputs": [
        {
          "output_type": "stream",
          "text": [
            "5\n",
            "[<__main__.Paper object at 0x7f1fa2a90ac8>, <__main__.Paper object at 0x7f1f98bbfcc0>, <__main__.Paper object at 0x7f1f98bbf320>, <__main__.Paper object at 0x7f1f98bbf0b8>, <__main__.Paper object at 0x7f1f98bbf7b8>]\n",
            "5\n",
            "[(<__main__.Paper object at 0x7f1fa2a90ac8>, <__main__.Paper object at 0x7f1f98bbfcc0>), (<__main__.Paper object at 0x7f1f98bbfcc0>, <__main__.Paper object at 0x7f1f98bbf0b8>), (<__main__.Paper object at 0x7f1f98bbf320>, <__main__.Paper object at 0x7f1f98bbfcc0>), (<__main__.Paper object at 0x7f1f98bbf0b8>, <__main__.Paper object at 0x7f1fa2a90ac8>), (<__main__.Paper object at 0x7f1f98bbf7b8>, <__main__.Paper object at 0x7f1f98bbf320>)]\n"
          ],
          "name": "stdout"
        }
      ]
    },
    {
      "cell_type": "markdown",
      "metadata": {
        "id": "gDDUq0b1q5lD",
        "colab_type": "text"
      },
      "source": [
        "##**Test Reduced Graph**"
      ]
    },
    {
      "cell_type": "code",
      "metadata": {
        "id": "hCEptKXfiYM2",
        "colab_type": "code",
        "colab": {
          "base_uri": "https://localhost:8080/",
          "height": 624
        },
        "outputId": "15faf28b-1119-46f8-dc32-0b88f81e612a"
      },
      "source": [
        "for paper in graph.nodes():\n",
        "  print(\"Title: \" + paper.title)\n",
        "  print(\"Author: \" + paper.authors[0].name)\n",
        "  print(\"Affiliation: \" + paper.authors[0].affiliation)\n",
        "  print(\"References:\")\n",
        "  for reference in paper.references:\n",
        "    print(\"\\t\" + reference.title)\n",
        "  print(\"##################################\\n\")\n"
      ],
      "execution_count": 118,
      "outputs": [
        {
          "output_type": "stream",
          "text": [
            "Title: title for paper 1\n",
            "Author: fabiano\n",
            "Affiliation: asu\n",
            "References:\n",
            "\ttitle for paper 2\n",
            "##################################\n",
            "\n",
            "Title: title for paper 2\n",
            "Author: john\n",
            "Affiliation: stanford\n",
            "References:\n",
            "\ttitle for paper 4\n",
            "##################################\n",
            "\n",
            "Title: title for paper 3\n",
            "Author: isaac\n",
            "Affiliation: mit\n",
            "References:\n",
            "\ttitle for paper 2\n",
            "##################################\n",
            "\n",
            "Title: title for paper 4\n",
            "Author: john\n",
            "Affiliation: stanford\n",
            "References:\n",
            "\ttitle for paper 1\n",
            "##################################\n",
            "\n",
            "Title: title for paper 5\n",
            "Author: fabiano\n",
            "Affiliation: asu\n",
            "References:\n",
            "\ttitle for paper 3\n",
            "##################################\n",
            "\n"
          ],
          "name": "stdout"
        }
      ]
    },
    {
      "cell_type": "code",
      "metadata": {
        "id": "EN9_7p8zraRS",
        "colab_type": "code",
        "colab": {}
      },
      "source": [
        ""
      ],
      "execution_count": 0,
      "outputs": []
    }
  ]
}